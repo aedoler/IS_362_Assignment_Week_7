{
 "cells": [
  {
   "cell_type": "markdown",
   "metadata": {},
   "source": [
    "## Assignment Week 7\n",
    "### By Alexander Doler"
   ]
  },
  {
   "cell_type": "markdown",
   "metadata": {},
   "source": [
    "#### Note that I had originally included NaN values in this dataframe, and replaced them with filled values but when performing mathematical operations, the columns that formerly contained NaN values did not behave as expected. For example, rather than summing the column values, the values were appened. So, for example, the sum() function would return \"3454\", instead of summing the values to equal \"16\". The lines of code that deal with the NaN values have been left commented out.\n",
    "#### In this first cell the csv file is imported. We then rename the unnambed column as \"Interviewee\" and set it as the index of the dataframe."
   ]
  },
  {
   "cell_type": "code",
   "execution_count": 209,
   "metadata": {
    "collapsed": false
   },
   "outputs": [
    {
     "data": {
      "text/html": [
       "<div>\n",
       "<table border=\"1\" class=\"dataframe\">\n",
       "  <thead>\n",
       "    <tr style=\"text-align: right;\">\n",
       "      <th></th>\n",
       "      <th>La La Land</th>\n",
       "      <th>Moonlight</th>\n",
       "      <th>Jackie</th>\n",
       "      <th>Finding Dory</th>\n",
       "      <th>Suicide Squad</th>\n",
       "      <th>Silence</th>\n",
       "    </tr>\n",
       "    <tr>\n",
       "      <th>Interviewee</th>\n",
       "      <th></th>\n",
       "      <th></th>\n",
       "      <th></th>\n",
       "      <th></th>\n",
       "      <th></th>\n",
       "      <th></th>\n",
       "    </tr>\n",
       "  </thead>\n",
       "  <tbody>\n",
       "    <tr>\n",
       "      <th>Alex</th>\n",
       "      <td>2</td>\n",
       "      <td>4</td>\n",
       "      <td>4</td>\n",
       "      <td>5</td>\n",
       "      <td>3</td>\n",
       "      <td>4</td>\n",
       "    </tr>\n",
       "    <tr>\n",
       "      <th>Nico</th>\n",
       "      <td>2</td>\n",
       "      <td>3</td>\n",
       "      <td>4</td>\n",
       "      <td>3</td>\n",
       "      <td>3</td>\n",
       "      <td>4</td>\n",
       "    </tr>\n",
       "    <tr>\n",
       "      <th>Cain</th>\n",
       "      <td>5</td>\n",
       "      <td>3</td>\n",
       "      <td>4</td>\n",
       "      <td>5</td>\n",
       "      <td>2</td>\n",
       "      <td>2</td>\n",
       "    </tr>\n",
       "    <tr>\n",
       "      <th>Matias</th>\n",
       "      <td>3</td>\n",
       "      <td>4</td>\n",
       "      <td>2</td>\n",
       "      <td>5</td>\n",
       "      <td>3</td>\n",
       "      <td>4</td>\n",
       "    </tr>\n",
       "    <tr>\n",
       "      <th>Leandro</th>\n",
       "      <td>3</td>\n",
       "      <td>4</td>\n",
       "      <td>3</td>\n",
       "      <td>3</td>\n",
       "      <td>2</td>\n",
       "      <td>4</td>\n",
       "    </tr>\n",
       "    <tr>\n",
       "      <th>Manuel</th>\n",
       "      <td>2</td>\n",
       "      <td>5</td>\n",
       "      <td>4</td>\n",
       "      <td>3</td>\n",
       "      <td>3</td>\n",
       "      <td>4</td>\n",
       "    </tr>\n",
       "  </tbody>\n",
       "</table>\n",
       "</div>"
      ],
      "text/plain": [
       "             La La Land  Moonlight  Jackie  Finding Dory  Suicide Squad  \\\n",
       "Interviewee                                                               \n",
       "Alex                  2          4       4             5              3   \n",
       "Nico                  2          3       4             3              3   \n",
       "Cain                  5          3       4             5              2   \n",
       "Matias                3          4       2             5              3   \n",
       "Leandro               3          4       3             3              2   \n",
       "Manuel                2          5       4             3              3   \n",
       "\n",
       "             Silence  \n",
       "Interviewee           \n",
       "Alex               4  \n",
       "Nico               4  \n",
       "Cain               2  \n",
       "Matias             4  \n",
       "Leandro            4  \n",
       "Manuel             4  "
      ]
     },
     "execution_count": 209,
     "metadata": {},
     "output_type": "execute_result"
    }
   ],
   "source": [
    "import pandas as pd\n",
    "import numpy as np\n",
    "\n",
    "movies = pd.read_csv(\"https://raw.githubusercontent.com/aedoler/IS_362_Assignment_Week_7/master/Movies.csv\")\n",
    "movies = movies.rename(columns={\"Unnamed: 0\":\"Interviewee\"})\n",
    "#movies = movies.replace(to_replace='None', value=np.nan)\n",
    "movies = movies.set_index(\"Interviewee\")\n",
    "movies"
   ]
  },
  {
   "cell_type": "markdown",
   "metadata": {},
   "source": [
    "#### In the two following cells we obtain the average ratings for each movie, and then for each interviewee."
   ]
  },
  {
   "cell_type": "code",
   "execution_count": 210,
   "metadata": {
    "collapsed": false
   },
   "outputs": [
    {
     "data": {
      "text/plain": [
       "La La Land       2.833333\n",
       "Moonlight        3.833333\n",
       "Jackie           3.500000\n",
       "Finding Dory     4.000000\n",
       "Suicide Squad    2.666667\n",
       "Silence          3.666667\n",
       "dtype: float64"
      ]
     },
     "execution_count": 210,
     "metadata": {},
     "output_type": "execute_result"
    }
   ],
   "source": [
    "movies.mean(axis=0)"
   ]
  },
  {
   "cell_type": "code",
   "execution_count": 211,
   "metadata": {
    "collapsed": false
   },
   "outputs": [
    {
     "data": {
      "text/plain": [
       "Interviewee\n",
       "Alex       3.666667\n",
       "Nico       3.166667\n",
       "Cain       3.500000\n",
       "Matias     3.500000\n",
       "Leandro    3.166667\n",
       "Manuel     3.500000\n",
       "dtype: float64"
      ]
     },
     "execution_count": 211,
     "metadata": {},
     "output_type": "execute_result"
    }
   ],
   "source": [
    "movies.mean(axis=1)"
   ]
  },
  {
   "cell_type": "code",
   "execution_count": 212,
   "metadata": {
    "collapsed": false
   },
   "outputs": [],
   "source": [
    "#long_movies = pd.melt(movies, id_vars=['Interviewee'], value_vars=['La La Land', 'Moonlight', 'Jackie', 'Finding Dory', 'Suicide Squad', 'Silence'], var_name='Movie', value_name='Rating')\n",
    "#long_movies"
   ]
  },
  {
   "cell_type": "code",
   "execution_count": 213,
   "metadata": {
    "collapsed": false
   },
   "outputs": [],
   "source": [
    "#long_movies.Rating = long_movies.Rating.dropna().astype(np.int64)\n",
    "#avg_rating = long_movies.groupby('Interviewee').agg(np.mean)\n",
    "#avg_rating"
   ]
  },
  {
   "cell_type": "code",
   "execution_count": 214,
   "metadata": {
    "collapsed": false
   },
   "outputs": [],
   "source": [
    "#long_movies.groupby('Movie').mean()"
   ]
  },
  {
   "cell_type": "code",
   "execution_count": 215,
   "metadata": {
    "collapsed": false
   },
   "outputs": [],
   "source": [
    "#movies_filled = movies.fillna(method=\"ffill\")\n",
    "#movies_filled"
   ]
  },
  {
   "cell_type": "markdown",
   "metadata": {},
   "source": [
    "#### In the cell below, we create a new dataframe with the normalized values."
   ]
  },
  {
   "cell_type": "code",
   "execution_count": 220,
   "metadata": {
    "collapsed": false
   },
   "outputs": [
    {
     "data": {
      "text/html": [
       "<div>\n",
       "<table border=\"1\" class=\"dataframe\">\n",
       "  <thead>\n",
       "    <tr style=\"text-align: right;\">\n",
       "      <th></th>\n",
       "      <th>La La Land</th>\n",
       "      <th>Moonlight</th>\n",
       "      <th>Jackie</th>\n",
       "      <th>Finding Dory</th>\n",
       "      <th>Suicide Squad</th>\n",
       "      <th>Silence</th>\n",
       "    </tr>\n",
       "    <tr>\n",
       "      <th>Interviewee</th>\n",
       "      <th></th>\n",
       "      <th></th>\n",
       "      <th></th>\n",
       "      <th></th>\n",
       "      <th></th>\n",
       "      <th></th>\n",
       "    </tr>\n",
       "  </thead>\n",
       "  <tbody>\n",
       "    <tr>\n",
       "      <th>Alex</th>\n",
       "      <td>-0.4</td>\n",
       "      <td>0.4</td>\n",
       "      <td>1.5</td>\n",
       "      <td>1.4</td>\n",
       "      <td>0.333333</td>\n",
       "      <td>1.5</td>\n",
       "    </tr>\n",
       "    <tr>\n",
       "      <th>Nico</th>\n",
       "      <td>-0.4</td>\n",
       "      <td>-0.6</td>\n",
       "      <td>1.5</td>\n",
       "      <td>-0.6</td>\n",
       "      <td>0.333333</td>\n",
       "      <td>1.5</td>\n",
       "    </tr>\n",
       "    <tr>\n",
       "      <th>Cain</th>\n",
       "      <td>2.6</td>\n",
       "      <td>-0.6</td>\n",
       "      <td>1.5</td>\n",
       "      <td>1.4</td>\n",
       "      <td>-0.666667</td>\n",
       "      <td>-0.5</td>\n",
       "    </tr>\n",
       "    <tr>\n",
       "      <th>Matias</th>\n",
       "      <td>0.6</td>\n",
       "      <td>0.4</td>\n",
       "      <td>-0.5</td>\n",
       "      <td>1.4</td>\n",
       "      <td>0.333333</td>\n",
       "      <td>1.5</td>\n",
       "    </tr>\n",
       "    <tr>\n",
       "      <th>Leandro</th>\n",
       "      <td>0.6</td>\n",
       "      <td>0.4</td>\n",
       "      <td>0.5</td>\n",
       "      <td>-0.6</td>\n",
       "      <td>-0.666667</td>\n",
       "      <td>1.5</td>\n",
       "    </tr>\n",
       "    <tr>\n",
       "      <th>Manuel</th>\n",
       "      <td>-0.4</td>\n",
       "      <td>1.4</td>\n",
       "      <td>1.5</td>\n",
       "      <td>-0.6</td>\n",
       "      <td>0.333333</td>\n",
       "      <td>1.5</td>\n",
       "    </tr>\n",
       "  </tbody>\n",
       "</table>\n",
       "</div>"
      ],
      "text/plain": [
       "             La La Land  Moonlight  Jackie  Finding Dory  Suicide Squad  \\\n",
       "Interviewee                                                               \n",
       "Alex               -0.4        0.4     1.5           1.4       0.333333   \n",
       "Nico               -0.4       -0.6     1.5          -0.6       0.333333   \n",
       "Cain                2.6       -0.6     1.5           1.4      -0.666667   \n",
       "Matias              0.6        0.4    -0.5           1.4       0.333333   \n",
       "Leandro             0.6        0.4     0.5          -0.6      -0.666667   \n",
       "Manuel             -0.4        1.4     1.5          -0.6       0.333333   \n",
       "\n",
       "             Silence  \n",
       "Interviewee           \n",
       "Alex             1.5  \n",
       "Nico             1.5  \n",
       "Cain            -0.5  \n",
       "Matias           1.5  \n",
       "Leandro          1.5  \n",
       "Manuel           1.5  "
      ]
     },
     "execution_count": 220,
     "metadata": {},
     "output_type": "execute_result"
    }
   ],
   "source": [
    "norm_df = (movies - movies.min() / movies.max() - movies.min())\n",
    "norm_df"
   ]
  },
  {
   "cell_type": "markdown",
   "metadata": {},
   "source": [
    "#### In the two cells below we obtain the average once again for both movies and interviewees, but using the normalized values."
   ]
  },
  {
   "cell_type": "code",
   "execution_count": 217,
   "metadata": {
    "collapsed": false
   },
   "outputs": [
    {
     "data": {
      "text/plain": [
       "La La Land       0.266667\n",
       "Moonlight        0.066667\n",
       "Jackie           0.625000\n",
       "Finding Dory     0.200000\n",
       "Suicide Squad   -0.222222\n",
       "Silence          0.750000\n",
       "dtype: float64"
      ]
     },
     "execution_count": 217,
     "metadata": {},
     "output_type": "execute_result"
    }
   ],
   "source": [
    "norm_df.mean(axis=0)"
   ]
  },
  {
   "cell_type": "code",
   "execution_count": 218,
   "metadata": {
    "collapsed": false
   },
   "outputs": [
    {
     "data": {
      "text/plain": [
       "Interviewee\n",
       "Alex       0.531019\n",
       "Nico       0.031019\n",
       "Cain       0.364352\n",
       "Matias     0.364352\n",
       "Leandro    0.031019\n",
       "Manuel     0.364352\n",
       "dtype: float64"
      ]
     },
     "execution_count": 218,
     "metadata": {},
     "output_type": "execute_result"
    }
   ],
   "source": [
    "norm_df.mean(axis=1)"
   ]
  },
  {
   "cell_type": "markdown",
   "metadata": {},
   "source": [
    "#### In this cell we use the standardization formula to obtain the standardized values of the dataframe."
   ]
  },
  {
   "cell_type": "code",
   "execution_count": 222,
   "metadata": {
    "collapsed": false
   },
   "outputs": [
    {
     "data": {
      "text/html": [
       "<div>\n",
       "<table border=\"1\" class=\"dataframe\">\n",
       "  <thead>\n",
       "    <tr style=\"text-align: right;\">\n",
       "      <th></th>\n",
       "      <th>La La Land</th>\n",
       "      <th>Moonlight</th>\n",
       "      <th>Jackie</th>\n",
       "      <th>Finding Dory</th>\n",
       "      <th>Suicide Squad</th>\n",
       "      <th>Silence</th>\n",
       "    </tr>\n",
       "    <tr>\n",
       "      <th>Interviewee</th>\n",
       "      <th></th>\n",
       "      <th></th>\n",
       "      <th></th>\n",
       "      <th></th>\n",
       "      <th></th>\n",
       "      <th></th>\n",
       "    </tr>\n",
       "  </thead>\n",
       "  <tbody>\n",
       "    <tr>\n",
       "      <th>Alex</th>\n",
       "      <td>-0.712832</td>\n",
       "      <td>0.221404</td>\n",
       "      <td>0.597614</td>\n",
       "      <td>0.912871</td>\n",
       "      <td>0.645497</td>\n",
       "      <td>0.408248</td>\n",
       "    </tr>\n",
       "    <tr>\n",
       "      <th>Nico</th>\n",
       "      <td>-0.712832</td>\n",
       "      <td>-1.107019</td>\n",
       "      <td>0.597614</td>\n",
       "      <td>-0.912871</td>\n",
       "      <td>0.645497</td>\n",
       "      <td>0.408248</td>\n",
       "    </tr>\n",
       "    <tr>\n",
       "      <th>Cain</th>\n",
       "      <td>1.853364</td>\n",
       "      <td>-1.107019</td>\n",
       "      <td>0.597614</td>\n",
       "      <td>0.912871</td>\n",
       "      <td>-1.290994</td>\n",
       "      <td>-2.041241</td>\n",
       "    </tr>\n",
       "    <tr>\n",
       "      <th>Matias</th>\n",
       "      <td>0.142566</td>\n",
       "      <td>0.221404</td>\n",
       "      <td>-1.792843</td>\n",
       "      <td>0.912871</td>\n",
       "      <td>0.645497</td>\n",
       "      <td>0.408248</td>\n",
       "    </tr>\n",
       "    <tr>\n",
       "      <th>Leandro</th>\n",
       "      <td>0.142566</td>\n",
       "      <td>0.221404</td>\n",
       "      <td>-0.597614</td>\n",
       "      <td>-0.912871</td>\n",
       "      <td>-1.290994</td>\n",
       "      <td>0.408248</td>\n",
       "    </tr>\n",
       "    <tr>\n",
       "      <th>Manuel</th>\n",
       "      <td>-0.712832</td>\n",
       "      <td>1.549826</td>\n",
       "      <td>0.597614</td>\n",
       "      <td>-0.912871</td>\n",
       "      <td>0.645497</td>\n",
       "      <td>0.408248</td>\n",
       "    </tr>\n",
       "  </tbody>\n",
       "</table>\n",
       "</div>"
      ],
      "text/plain": [
       "             La La Land  Moonlight    Jackie  Finding Dory  Suicide Squad  \\\n",
       "Interviewee                                                                 \n",
       "Alex          -0.712832   0.221404  0.597614      0.912871       0.645497   \n",
       "Nico          -0.712832  -1.107019  0.597614     -0.912871       0.645497   \n",
       "Cain           1.853364  -1.107019  0.597614      0.912871      -1.290994   \n",
       "Matias         0.142566   0.221404 -1.792843      0.912871       0.645497   \n",
       "Leandro        0.142566   0.221404 -0.597614     -0.912871      -1.290994   \n",
       "Manuel        -0.712832   1.549826  0.597614     -0.912871       0.645497   \n",
       "\n",
       "              Silence  \n",
       "Interviewee            \n",
       "Alex         0.408248  \n",
       "Nico         0.408248  \n",
       "Cain        -2.041241  \n",
       "Matias       0.408248  \n",
       "Leandro      0.408248  \n",
       "Manuel       0.408248  "
      ]
     },
     "execution_count": 222,
     "metadata": {},
     "output_type": "execute_result"
    }
   ],
   "source": [
    "std_df = (norm_df - norm_df.mean()) / norm_df.std()\n",
    "std_df"
   ]
  },
  {
   "cell_type": "markdown",
   "metadata": {},
   "source": [
    "### Conclusion\n",
    "\n",
    "#### One of the main reasons for normalizing data is the set all the data on the same scale (0,1). It adjusts the data into a more linear format that can be more appropriate for performing data mining and analysis in some cases. Normalized data is great for finding patters and recognizing variances in the data. However, a disadvantage is that if there are outliers in the dataset, the outliers will cause the rest of the data to scale to a very low value, which may not represent the actual trends."
   ]
  },
  {
   "cell_type": "code",
   "execution_count": null,
   "metadata": {
    "collapsed": true
   },
   "outputs": [],
   "source": []
  }
 ],
 "metadata": {
  "kernelspec": {
   "display_name": "Python 3",
   "language": "python",
   "name": "python3"
  },
  "language_info": {
   "codemirror_mode": {
    "name": "ipython",
    "version": 3
   },
   "file_extension": ".py",
   "mimetype": "text/x-python",
   "name": "python",
   "nbconvert_exporter": "python",
   "pygments_lexer": "ipython3",
   "version": "3.5.2"
  }
 },
 "nbformat": 4,
 "nbformat_minor": 2
}
